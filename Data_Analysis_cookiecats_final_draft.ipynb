{
 "cells": [
  {
   "cell_type": "markdown",
   "metadata": {},
   "source": [
    "## About the data set."
   ]
  },
  {
   "cell_type": "markdown",
   "metadata": {},
   "source": [
    "Cookie Cats is a hugely popular mobile puzzle game developed by Tactile Entertainment. It's a classic \"Match_three\" style puzzle game where the player must connect tiles of the same color in order to clear the board and win the level. Featuring engaging levels, charming characters, and vibrant visuals, the game focuses on casual, fun gameplay designed to retain players through delightful progression and social features.\n",
    "\n",
    "As players progress through the game they will encounter gates that force them to wait some time before they can progress or make an in-app purchase. In this project, we will analyze the result of an A/B test where the first gate in Cookie Cats was moved from level 30 to level 40. In particular, we will analyze the impact on player retention and game rounds."
   ]
  },
  {
   "cell_type": "markdown",
   "metadata": {},
   "source": [
    "### How does the data look"
   ]
  },
  {
   "cell_type": "markdown",
   "metadata": {},
   "source": [
    "The data is from 90,189 players that installed the game while the AB-test was running. The variables are:\n",
    "\n",
    "1. userid - a unique number that identifies each player.<br>\n",
    "2. version - whether the player was put in the control group (gate_30 - a gate at level 30) or the test group (gate_40 - a gate at level 40).<br>\n",
    "3. sum_gamerounds - the number of game rounds played by the player during the first week after installation<br>\n",
    "4. retention_1 - did the player come back and play 1 day after installing?<br>\n",
    "5. retention_7 - did the player come back and play 7 days after installing?<br>\n",
    "\n",
    "When a player installed the game, they are randomly assigned to either gate_30 or gate_40."
   ]
  },
  {
   "cell_type": "markdown",
   "metadata": {},
   "source": [
    "## Importing the data set and basic data exploration\n"
   ]
  },
  {
   "cell_type": "code",
   "execution_count": 6,
   "metadata": {},
   "outputs": [
    {
     "name": "stdout",
     "output_type": "stream",
     "text": [
      "   userid  version  sum_gamerounds  retention_1  retention_7\n",
      "0     116  gate_30               3        False        False\n",
      "1     337  gate_30              38         True        False\n",
      "2     377  gate_40             165         True        False\n",
      "3     483  gate_40               1        False        False\n",
      "4     488  gate_40             179         True         True\n",
      "Index(['userid', 'version', 'sum_gamerounds', 'retention_1', 'retention_7'], dtype='object')\n"
     ]
    }
   ],
   "source": [
    "import pandas as pd\n",
    "\n",
    "file_path = r\"C:\\Users\\Lachu\\OneDrive\\Documents\\Visual Studio 2019\\projecct_draft\\cookie_cats - cookie_cats.csv.csv\"\n",
    "data = pd.read_csv(file_path)\n",
    "\n",
    "# Display the first few rows and structure of the data\n",
    "print(data.head())\n",
    "print(data.columns)\n"
   ]
  },
  {
   "cell_type": "code",
   "execution_count": 7,
   "metadata": {},
   "outputs": [
    {
     "name": "stdout",
     "output_type": "stream",
     "text": [
      "<class 'pandas.core.frame.DataFrame'>\n",
      "RangeIndex: 90189 entries, 0 to 90188\n",
      "Data columns (total 5 columns):\n",
      " #   Column          Non-Null Count  Dtype \n",
      "---  ------          --------------  ----- \n",
      " 0   userid          90189 non-null  int64 \n",
      " 1   version         90189 non-null  object\n",
      " 2   sum_gamerounds  90189 non-null  int64 \n",
      " 3   retention_1     90189 non-null  bool  \n",
      " 4   retention_7     90189 non-null  bool  \n",
      "dtypes: bool(2), int64(2), object(1)\n",
      "memory usage: 2.2+ MB\n"
     ]
    }
   ],
   "source": [
    "#checking Dataframe basic informations (columns names, number of values, data types ......)\n",
    "\n",
    "data.info()"
   ]
  },
  {
   "cell_type": "code",
   "execution_count": 8,
   "metadata": {},
   "outputs": [
    {
     "data": {
      "text/plain": [
       "(90189, 5)"
      ]
     },
     "execution_count": 8,
     "metadata": {},
     "output_type": "execute_result"
    }
   ],
   "source": [
    "#checking Dataframe shape (number of rows and columns)\n",
    "\n",
    "data.shape"
   ]
  },
  {
   "cell_type": "code",
   "execution_count": 9,
   "metadata": {},
   "outputs": [
    {
     "data": {
      "text/html": [
       "<div>\n",
       "<style scoped>\n",
       "    .dataframe tbody tr th:only-of-type {\n",
       "        vertical-align: middle;\n",
       "    }\n",
       "\n",
       "    .dataframe tbody tr th {\n",
       "        vertical-align: top;\n",
       "    }\n",
       "\n",
       "    .dataframe thead th {\n",
       "        text-align: right;\n",
       "    }\n",
       "</style>\n",
       "<table border=\"1\" class=\"dataframe\">\n",
       "  <thead>\n",
       "    <tr style=\"text-align: right;\">\n",
       "      <th></th>\n",
       "      <th>userid</th>\n",
       "      <th>sum_gamerounds</th>\n",
       "    </tr>\n",
       "  </thead>\n",
       "  <tbody>\n",
       "    <tr>\n",
       "      <th>count</th>\n",
       "      <td>9.018900e+04</td>\n",
       "      <td>90189.000000</td>\n",
       "    </tr>\n",
       "    <tr>\n",
       "      <th>mean</th>\n",
       "      <td>4.998412e+06</td>\n",
       "      <td>51.872457</td>\n",
       "    </tr>\n",
       "    <tr>\n",
       "      <th>std</th>\n",
       "      <td>2.883286e+06</td>\n",
       "      <td>195.050858</td>\n",
       "    </tr>\n",
       "    <tr>\n",
       "      <th>min</th>\n",
       "      <td>1.160000e+02</td>\n",
       "      <td>0.000000</td>\n",
       "    </tr>\n",
       "    <tr>\n",
       "      <th>25%</th>\n",
       "      <td>2.512230e+06</td>\n",
       "      <td>5.000000</td>\n",
       "    </tr>\n",
       "    <tr>\n",
       "      <th>50%</th>\n",
       "      <td>4.995815e+06</td>\n",
       "      <td>16.000000</td>\n",
       "    </tr>\n",
       "    <tr>\n",
       "      <th>75%</th>\n",
       "      <td>7.496452e+06</td>\n",
       "      <td>51.000000</td>\n",
       "    </tr>\n",
       "    <tr>\n",
       "      <th>max</th>\n",
       "      <td>9.999861e+06</td>\n",
       "      <td>49854.000000</td>\n",
       "    </tr>\n",
       "  </tbody>\n",
       "</table>\n",
       "</div>"
      ],
      "text/plain": [
       "             userid  sum_gamerounds\n",
       "count  9.018900e+04    90189.000000\n",
       "mean   4.998412e+06       51.872457\n",
       "std    2.883286e+06      195.050858\n",
       "min    1.160000e+02        0.000000\n",
       "25%    2.512230e+06        5.000000\n",
       "50%    4.995815e+06       16.000000\n",
       "75%    7.496452e+06       51.000000\n",
       "max    9.999861e+06    49854.000000"
      ]
     },
     "execution_count": 9,
     "metadata": {},
     "output_type": "execute_result"
    }
   ],
   "source": [
    "#Describing numerical values in the data set\n",
    "data.describe()"
   ]
  },
  {
   "cell_type": "markdown",
   "metadata": {},
   "source": [
    "### Cleaning Data"
   ]
  },
  {
   "cell_type": "code",
   "execution_count": 10,
   "metadata": {},
   "outputs": [
    {
     "data": {
      "text/plain": [
       "userid            0\n",
       "version           0\n",
       "sum_gamerounds    0\n",
       "retention_1       0\n",
       "retention_7       0\n",
       "dtype: int64"
      ]
     },
     "execution_count": 10,
     "metadata": {},
     "output_type": "execute_result"
    }
   ],
   "source": [
    "# checking for NaN values patients\n",
    "\n",
    "data.isnull().sum()"
   ]
  },
  {
   "cell_type": "markdown",
   "metadata": {},
   "source": [
    "## Exploratory Data Analysis"
   ]
  },
  {
   "cell_type": "markdown",
   "metadata": {},
   "source": [
    "#### Understanding the player distribution \n",
    "Here we are finding out more about our data through exploratory data analysis.<br>\n",
    "1. Finding out the total numer of players in the game.<br>\n",
    "2. Finding out number of players for each version of the game(for version_30 where gate placed on level 30 and version_40 when gate is moved to level 40)<br>\n",
    "3. Finding out the number of players who never played the game(sum_gamerounds=0)<br>\n",
    "4. Finding out the number of players who never came back after day 1/ day 7<br>\n",
    "\n"
   ]
  },
  {
   "cell_type": "code",
   "execution_count": 11,
   "metadata": {},
   "outputs": [
    {
     "name": "stdout",
     "output_type": "stream",
     "text": [
      "90189\n"
     ]
    }
   ],
   "source": [
    "#Total number of players for both versions\n",
    "number_of_players =data['userid'].count()\n",
    "print(number_of_players)"
   ]
  },
  {
   "cell_type": "code",
   "execution_count": 12,
   "metadata": {},
   "outputs": [
    {
     "name": "stdout",
     "output_type": "stream",
     "text": [
      "version\n",
      "gate_30    44700\n",
      "gate_40    45489\n",
      "Name: userid, dtype: int64\n"
     ]
    }
   ],
   "source": [
    "#Number of players for each version\n",
    "\n",
    "player_in_version = data.groupby('version')['userid'].size()\n",
    "print(player_in_version)\n"
   ]
  },
  {
   "cell_type": "code",
   "execution_count": 13,
   "metadata": {},
   "outputs": [
    {
     "name": "stdout",
     "output_type": "stream",
     "text": [
      "userid            3994\n",
      "version           3994\n",
      "sum_gamerounds    3994\n",
      "retention_1       3994\n",
      "retention_7       3994\n",
      "dtype: int64\n"
     ]
    }
   ],
   "source": [
    "#players who never played any rounds of the game after installing it.\n",
    "\n",
    "never_played = data[data['sum_gamerounds']==0].count()\n",
    "print(never_played)"
   ]
  },
  {
   "cell_type": "code",
   "execution_count": 22,
   "metadata": {},
   "outputs": [
    {
     "name": "stdout",
     "output_type": "stream",
     "text": [
      "version\n",
      "gate_30    22840\n",
      "gate_40    23597\n",
      "dtype: int64\n"
     ]
    }
   ],
   "source": [
    "# Finding out the number of player who never returned to the game\n",
    "\n",
    "never_returned = data[(data['retention_1'] == False) & (data['retention_7'] == False)]\n",
    "number_of_never_returned = never_returned.groupby('version').size()\n",
    "print(number_of_never_returned)"
   ]
  },
  {
   "cell_type": "markdown",
   "metadata": {},
   "source": [
    "#### Data Analysis based on player retention\n",
    "We're trying to find out the retention of players in the game after day 1 and day 7.<br>\n",
    "1. Finding out the number of players came after day 1 (for version_30 and version_40)<br>\n",
    "2. Finding out the number of players came after day 7 (for version_30 and version_40)<br>\n",
    "3. Comparing the retention for both version to find out if the gate placement affects the retention<br>\n",
    "\n"
   ]
  },
  {
   "cell_type": "code",
   "execution_count": 42,
   "metadata": {},
   "outputs": [
    {
     "name": "stdout",
     "output_type": "stream",
     "text": [
      "Player's returned for version 30 after day 1: 20034\n",
      "Player's returned for version_40 after day 1: 20119\n",
      "Player's returned for version 30 after day 7: 8502\n",
      "Player's returned for version_40 after day 7: 8279\n"
     ]
    }
   ],
   "source": [
    "# Data for version 30 and version 40\n",
    "version_30 = data[data['version'] == 'gate_30']\n",
    "version_40 = data[data['version'] == 'gate_40']\n",
    "\n",
    "\n",
    "#Number of players came back in version_30 and version_40 after day 1\n",
    "\n",
    "\n",
    "version_30_day1_number = version_30['retention_1'].sum()\n",
    "version_40_day1_number = version_40['retention_1'].sum()\n",
    "\n",
    "print(\"Player's returned for version 30 after day 1:\",version_30_day1_number)\n",
    "print(\"Player's returned for version_40 after day 1:\", version_40_day1_number)\n",
    "\n",
    "#Number of players came back in version_30 and version_40 after day 7\n",
    "\n",
    "version_30_day7_number = version_30['retention_7'].sum()\n",
    "version_40_day7_number = version_40['retention_7'].sum()\n",
    "\n",
    "print(\"Player's returned for version 30 after day 7:\",version_30_day7_number)\n",
    "print(\"Player's returned for version_40 after day 7:\", version_40_day7_number)\n"
   ]
  },
  {
   "cell_type": "code",
   "execution_count": 45,
   "metadata": {},
   "outputs": [
    {
     "name": "stdout",
     "output_type": "stream",
     "text": [
      "Mean for version 30 after day 1: 44.81879194630872\n",
      "Mean for version_40 after day 7: 44.22827496757458\n",
      "Mean for version 30 after day 7: 19.020134228187917\n",
      "Mean for version_40 after day 7: 18.200004396667328\n"
     ]
    }
   ],
   "source": [
    "#calculating the mean values for both versions for day 1 retention\n",
    "version_30_day1_mean = version_30['retention_1'].mean()*100\n",
    "version_40_day1_mean = version_40['retention_1'].mean()*100\n",
    "print(\"Mean for version 30 after day 1:\",version_30_day1_mean)\n",
    "print(\"Mean for version_40 after day 7:\", version_40_day1_mean)\n",
    "\n",
    "#calculating the mean values for both versions for day 7 retention\n",
    "version_30_day7_mean = version_30['retention_7'].mean()*100\n",
    "version_40_day7_mean = version_40['retention_7'].mean()*100\n",
    "print(\"Mean for version 30 after day 7:\",version_30_day7_mean)\n",
    "print(\"Mean for version_40 after day 7:\", version_40_day7_mean)"
   ]
  },
  {
   "cell_type": "markdown",
   "metadata": {},
   "source": [
    "#### Observation:\n",
    "Looking at the number of players and the mean values for both the version, \"version_30\" has managed to retain more players by a slight margin. To reach any concrete conclusion, furthur analysis using statistical tools is a good idea.\n"
   ]
  },
  {
   "cell_type": "markdown",
   "metadata": {},
   "source": [
    "To compare the retention rates between the two game versions (gate_30 and gate_40) in the Cookie Cats dataset, we can use a \"t-test\" to check for any statistically significant differences."
   ]
  },
  {
   "cell_type": "code",
   "execution_count": 53,
   "metadata": {},
   "outputs": [
    {
     "data": {
      "text/html": [
       "<div>\n",
       "<style scoped>\n",
       "    .dataframe tbody tr th:only-of-type {\n",
       "        vertical-align: middle;\n",
       "    }\n",
       "\n",
       "    .dataframe tbody tr th {\n",
       "        vertical-align: top;\n",
       "    }\n",
       "\n",
       "    .dataframe thead th {\n",
       "        text-align: right;\n",
       "    }\n",
       "</style>\n",
       "<table border=\"1\" class=\"dataframe\">\n",
       "  <thead>\n",
       "    <tr style=\"text-align: right;\">\n",
       "      <th></th>\n",
       "      <th>T</th>\n",
       "      <th>dof</th>\n",
       "      <th>alternative</th>\n",
       "      <th>p-val</th>\n",
       "      <th>CI95%</th>\n",
       "      <th>cohen-d</th>\n",
       "      <th>BF10</th>\n",
       "      <th>power</th>\n",
       "    </tr>\n",
       "  </thead>\n",
       "  <tbody>\n",
       "    <tr>\n",
       "      <th>T-test</th>\n",
       "      <td>1.784077</td>\n",
       "      <td>90155.112133</td>\n",
       "      <td>two-sided</td>\n",
       "      <td>0.074414</td>\n",
       "      <td>[-0.0, 0.01]</td>\n",
       "      <td>0.011882</td>\n",
       "      <td>0.037</td>\n",
       "      <td>0.430283</td>\n",
       "    </tr>\n",
       "  </tbody>\n",
       "</table>\n",
       "</div>"
      ],
      "text/plain": [
       "               T           dof alternative     p-val         CI95%   cohen-d  \\\n",
       "T-test  1.784077  90155.112133   two-sided  0.074414  [-0.0, 0.01]  0.011882   \n",
       "\n",
       "         BF10     power  \n",
       "T-test  0.037  0.430283  "
      ]
     },
     "metadata": {},
     "output_type": "display_data"
    },
    {
     "name": "stdout",
     "output_type": "stream",
     "text": [
      "The retention rates for day 1 is NOT statistically significant (p-value is  0.07441443713953834\n"
     ]
    },
    {
     "data": {
      "text/html": [
       "<div>\n",
       "<style scoped>\n",
       "    .dataframe tbody tr th:only-of-type {\n",
       "        vertical-align: middle;\n",
       "    }\n",
       "\n",
       "    .dataframe tbody tr th {\n",
       "        vertical-align: top;\n",
       "    }\n",
       "\n",
       "    .dataframe thead th {\n",
       "        text-align: right;\n",
       "    }\n",
       "</style>\n",
       "<table border=\"1\" class=\"dataframe\">\n",
       "  <thead>\n",
       "    <tr style=\"text-align: right;\">\n",
       "      <th></th>\n",
       "      <th>T</th>\n",
       "      <th>dof</th>\n",
       "      <th>alternative</th>\n",
       "      <th>p-val</th>\n",
       "      <th>CI95%</th>\n",
       "      <th>cohen-d</th>\n",
       "      <th>BF10</th>\n",
       "      <th>power</th>\n",
       "    </tr>\n",
       "  </thead>\n",
       "  <tbody>\n",
       "    <tr>\n",
       "      <th>T-test</th>\n",
       "      <td>3.164029</td>\n",
       "      <td>90079.82814</td>\n",
       "      <td>two-sided</td>\n",
       "      <td>0.001557</td>\n",
       "      <td>[0.0, 0.01]</td>\n",
       "      <td>0.021075</td>\n",
       "      <td>1.12</td>\n",
       "      <td>0.885802</td>\n",
       "    </tr>\n",
       "  </tbody>\n",
       "</table>\n",
       "</div>"
      ],
      "text/plain": [
       "               T          dof alternative     p-val        CI95%   cohen-d  \\\n",
       "T-test  3.164029  90079.82814   two-sided  0.001557  [0.0, 0.01]  0.021075   \n",
       "\n",
       "        BF10     power  \n",
       "T-test  1.12  0.885802  "
      ]
     },
     "metadata": {},
     "output_type": "display_data"
    },
    {
     "name": "stdout",
     "output_type": "stream",
     "text": [
      "The retention rates for day 7 is statistically significant(p-value is 0.0015565301810066521\n"
     ]
    }
   ],
   "source": [
    "import pingouin as pg\n",
    "#t-test for day1 retention\n",
    "version30_retention1 = data[data['version'] == 'gate_30']['retention_1'].astype(int)\n",
    "version40_retention1 = data[data['version'] == 'gate_40']['retention_1'].astype(int)\n",
    "\n",
    "test_result_retention1= pg.ttest(version30_retention1, version40_retention1, paired=False)\n",
    "#print test result for day 1\n",
    "display(test_result_retention1)\n",
    "p_value_day_1 = test_result_retention1['p-val'].iloc[0]\n",
    "if (p_value_day_1 < 0.05):\n",
    "    print(f\"The retention rates for day 1 is statistically significant(p-value is {p_value_day_1}\")\n",
    "else:\n",
    "    print(f\"The retention rates for day 1 is NOT statistically significant (p-value is  {p_value_day_1}\")\n",
    "\n",
    "#t-test for day7 retention\n",
    "version30_retention7 = data[data['version'] == 'gate_30']['retention_7'].astype(int)\n",
    "version40_retention7 = data[data['version'] == 'gate_40']['retention_7'].astype(int)\n",
    "\n",
    "test_result_retention7= pg.ttest(version30_retention7, version40_retention7, paired=False)\n",
    "#print test result for day 7\n",
    "display(test_result_retention7)\n",
    "p_value_day_7 = test_result_retention7['p-val'].iloc[0]\n",
    "if (p_value_day_7 < 0.05):\n",
    "    print(f\"The retention rates for day 7 is statistically significant(p-value is {p_value_day_7}\")\n",
    "else:\n",
    "    print(f\"The retention rates for day 7  is NOT statistically significant (p-value is  {p_value_day_7}\")\n"
   ]
  },
  {
   "cell_type": "markdown",
   "metadata": {},
   "source": [
    "### Conclusions from data analysis for retention and following up with a statistical test .<br>\n",
    "#### Insights from Data analysis for retention\n",
    "1. Number of players retained after day 1 is higher for version_40 (20119 players)<br>\n",
    "2. Number of players retaind after day 7 is higher for version_30 (8502 players) <br>\n",
    "3. Mean value of players returned for version 30 after day 1: 44.81879194630872<br>\n",
    "4. Mean value of players returned for version_40 after day 7: 44.22827496757458<br>\n",
    "5. Mean value of players returned for version 30 after day 7: 19.020134228187917<br>\n",
    "6. Mean value of players returned for version_40 after day 7: 18.200004396667328<br>\n",
    "\n",
    "The mean value difference between both the versions is very marginal which makes it hard to draw a conclusion only depending on them,\n",
    "So  t-test is done to examine the p-values of both versions on retentions to understand statistical significance.\n",
    "\n",
    "#### Statistical test results for both both versions on day 1 retention <br>\n",
    "1. The retention rates for day 1 is NOT statistically significant (p-value is  0.07441443713953834) <br>\n",
    "2. The retention rates for day 7 is statistically significant(p-value is 0.0015565301810066521) <br>\n",
    "\n",
    "Retention rates for day 7 retention is statistically significant, a higher number of players have returned for \"version 30\" (When the gate placement was in level 30 ) . So this placement appears to retain more users in a long term.\n"
   ]
  },
  {
   "cell_type": "markdown",
   "metadata": {},
   "source": [
    "### Visualisation of data analysis for player retention"
   ]
  }
 ],
 "metadata": {
  "kernelspec": {
   "display_name": "Python 3",
   "language": "python",
   "name": "python3"
  },
  "language_info": {
   "codemirror_mode": {
    "name": "ipython",
    "version": 3
   },
   "file_extension": ".py",
   "mimetype": "text/x-python",
   "name": "python",
   "nbconvert_exporter": "python",
   "pygments_lexer": "ipython3",
   "version": "3.12.6"
  }
 },
 "nbformat": 4,
 "nbformat_minor": 2
}
